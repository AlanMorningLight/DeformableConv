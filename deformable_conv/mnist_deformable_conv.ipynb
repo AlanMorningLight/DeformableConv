{
 "cells": [
  {
   "cell_type": "code",
   "execution_count": 1,
   "metadata": {},
   "outputs": [
    {
     "name": "stderr",
     "output_type": "stream",
     "text": [
      "Using TensorFlow backend.\n"
     ]
    }
   ],
   "source": [
    "from deformableConv_op import get_cnn, get_deform_cnn\n",
    "from mnist import get_gen\n",
    "import tensorflow as tf\n",
    "import keras.backend as K\n",
    "import numpy as np\n",
    "\n",
    "\n",
    "from keras.models import Model\n",
    "from keras.losses import categorical_crossentropy\n",
    "from keras.optimizers import Adam, SGD\n",
    "\n"
   ]
  },
  {
   "cell_type": "code",
   "execution_count": 4,
   "metadata": {},
   "outputs": [],
   "source": [
    "config = tf.ConfigProto()\n",
    "config.gpu_options.allow_growth = True #允许显存不预先分配，而是随时增加\n",
    "sess = tf.Session(config=config)\n",
    "K.set_session(sess)\n",
    "\n",
    "batch_size = 32\n",
    "n_train = 60000\n",
    "n_test = 10000\n",
    "steps_per_epoch = int(np.ceil(n_train / batch_size))\n",
    "validation_steps = int(np.ceil(n_test / batch_size))\n",
    "\n",
    "train_gen = get_gen(\n",
    "    'train', batch_size=batch_size,\n",
    "    scale=(1.0, 1.0), translate=0.0,\n",
    "    shuffle=True\n",
    ")\n",
    "test_gen = get_gen(\n",
    "    'test', batch_size=batch_size,\n",
    "    scale=(1.0, 1.0), translate=0.0,\n",
    "    shuffle=False\n",
    ")\n",
    "train_scaled_gen = get_gen(\n",
    "    'train', batch_size=batch_size,\n",
    "    scale=(1.0, 2.5), translate=0.2,\n",
    "    shuffle=True\n",
    ")\n",
    "test_scaled_gen = get_gen(\n",
    "    'test', batch_size=batch_size,\n",
    "    scale=(1.0, 2.5), translate=0.2,\n",
    "    shuffle=False\n",
    ")"
   ]
  },
  {
   "cell_type": "code",
   "execution_count": null,
   "metadata": {},
   "outputs": [],
   "source": [
    "inputs, outputs = get_cnn()\n",
    "model = Model(inputs=inputs, outputs=outputs)\n",
    "model.summary()\n",
    "optim = Adam(1e-3)\n",
    "# optim = SGD(1e-3, momentum=0.99, nesterov=True)\n",
    "loss = categorical_crossentropy\n",
    "model.compile(optim, loss, metrics=['accuracy'])\n",
    "\n",
    "model.fit_generator(\n",
    "    train_gen, steps_per_epoch=steps_per_epoch,\n",
    "    epochs=10, verbose=1,\n",
    "    validation_data=test_gen, validation_steps=validation_steps\n",
    ")\n",
    "model.save_weights('./models/cnn.h5')"
   ]
  },
  {
   "cell_type": "code",
   "execution_count": null,
   "metadata": {},
   "outputs": [],
   "source": [
    "model.load_weights('./models/cnn.h5', by_name=True)\n",
    "\n",
    "val_loss, val_acc = model.evaluate_generator(\n",
    "    test_gen, steps=validation_steps\n",
    ")\n",
    "print('Test accuracy', val_acc)\n",
    "# 0.9874\n",
    "\n",
    "val_loss, val_acc = model.evaluate_generator(\n",
    "    test_scaled_gen, steps=validation_steps\n",
    ")\n",
    "print('Test accuracy with scaled images', val_acc)"
   ]
  },
  {
   "cell_type": "code",
   "execution_count": 5,
   "metadata": {},
   "outputs": [
    {
     "name": "stdout",
     "output_type": "stream",
     "text": [
      "_________________________________________________________________\n",
      "Layer (type)                 Output Shape              Param #   \n",
      "=================================================================\n",
      "input (InputLayer)           (None, 28, 28, 1)         0         \n",
      "_________________________________________________________________\n",
      "conv11 (Conv2D)              (None, 28, 28, 32)        320       \n",
      "_________________________________________________________________\n",
      "conv11_relu (Activation)     (None, 28, 28, 32)        0         \n",
      "_________________________________________________________________\n",
      "conv11_bn (BatchNormalizatio (None, 28, 28, 32)        128       \n",
      "_________________________________________________________________\n",
      "conv12_offset (DeformableCon (None, 28, 28, 32)        18432     \n",
      "_________________________________________________________________\n",
      "conv12 (Conv2D)              (None, 14, 14, 64)        18496     \n",
      "_________________________________________________________________\n",
      "conv12_relu (Activation)     (None, 14, 14, 64)        0         \n",
      "_________________________________________________________________\n",
      "conv12_bn (BatchNormalizatio (None, 14, 14, 64)        256       \n",
      "_________________________________________________________________\n",
      "conv21_offset (DeformableCon (None, 14, 14, 64)        73728     \n",
      "_________________________________________________________________\n",
      "conv21 (Conv2D)              (None, 14, 14, 128)       73856     \n",
      "_________________________________________________________________\n",
      "conv21_relu (Activation)     (None, 14, 14, 128)       0         \n",
      "_________________________________________________________________\n",
      "conv21_bn (BatchNormalizatio (None, 14, 14, 128)       512       \n",
      "_________________________________________________________________\n",
      "conv22_offset (DeformableCon (None, 14, 14, 128)       294912    \n",
      "_________________________________________________________________\n",
      "conv22 (Conv2D)              (None, 7, 7, 128)         147584    \n",
      "_________________________________________________________________\n",
      "conv22_relu (Activation)     (None, 7, 7, 128)         0         \n",
      "_________________________________________________________________\n",
      "conv22_bn (BatchNormalizatio (None, 7, 7, 128)         512       \n",
      "_________________________________________________________________\n",
      "avg_pool (GlobalAveragePooli (None, 128)               0         \n",
      "_________________________________________________________________\n",
      "fc1 (Dense)                  (None, 10)                1290      \n",
      "_________________________________________________________________\n",
      "out (Activation)             (None, 10)                0         \n",
      "=================================================================\n",
      "Total params: 630,026\n",
      "Trainable params: 387,776\n",
      "Non-trainable params: 242,250\n",
      "_________________________________________________________________\n",
      "Epoch 1/20\n",
      "1875/1875 [==============================] - 195s 104ms/step - loss: 0.7905 - acc: 0.7454 - val_loss: 0.4577 - val_acc: 0.8496\n",
      "Epoch 2/20\n",
      "1875/1875 [==============================] - 194s 104ms/step - loss: 0.4373 - acc: 0.8581 - val_loss: 0.3869 - val_acc: 0.8776\n",
      "Epoch 3/20\n",
      "1875/1875 [==============================] - 189s 101ms/step - loss: 0.3594 - acc: 0.8853 - val_loss: 0.3768 - val_acc: 0.8797\n",
      "Epoch 4/20\n",
      "1875/1875 [==============================] - 212s 113ms/step - loss: 0.3088 - acc: 0.9029 - val_loss: 0.2590 - val_acc: 0.9173\n",
      "Epoch 5/20\n",
      "1875/1875 [==============================] - 213s 113ms/step - loss: 0.2823 - acc: 0.9110 - val_loss: 0.2458 - val_acc: 0.9178\n",
      "Epoch 6/20\n",
      "1875/1875 [==============================] - 212s 113ms/step - loss: 0.2600 - acc: 0.9166 - val_loss: 0.2604 - val_acc: 0.9172\n",
      "Epoch 7/20\n",
      "1875/1875 [==============================] - 198s 105ms/step - loss: 0.2349 - acc: 0.9254 - val_loss: 0.2133 - val_acc: 0.9304\n",
      "Epoch 8/20\n",
      "1875/1875 [==============================] - 188s 101ms/step - loss: 0.2189 - acc: 0.9313 - val_loss: 0.2597 - val_acc: 0.9148\n",
      "Epoch 9/20\n",
      "1875/1875 [==============================] - 195s 104ms/step - loss: 0.2054 - acc: 0.9352 - val_loss: 0.1753 - val_acc: 0.9429\n",
      "Epoch 10/20\n",
      "1875/1875 [==============================] - 190s 101ms/step - loss: 0.1987 - acc: 0.9366 - val_loss: 0.1996 - val_acc: 0.9378\n",
      "Epoch 11/20\n",
      "1875/1875 [==============================] - 196s 105ms/step - loss: 0.1868 - acc: 0.9407 - val_loss: 0.1649 - val_acc: 0.9451\n",
      "Epoch 12/20\n",
      "1875/1875 [==============================] - 196s 105ms/step - loss: 0.1825 - acc: 0.9425 - val_loss: 0.2015 - val_acc: 0.9362\n",
      "Epoch 13/20\n",
      "1875/1875 [==============================] - 192s 103ms/step - loss: 0.1670 - acc: 0.9475 - val_loss: 0.1446 - val_acc: 0.9530\n",
      "Epoch 14/20\n",
      "1875/1875 [==============================] - 189s 101ms/step - loss: 0.1646 - acc: 0.9478 - val_loss: 0.1602 - val_acc: 0.9493\n",
      "Epoch 15/20\n",
      "1875/1875 [==============================] - 188s 100ms/step - loss: 0.1624 - acc: 0.9483 - val_loss: 0.1586 - val_acc: 0.9495\n",
      "Epoch 16/20\n",
      "1875/1875 [==============================] - 188s 100ms/step - loss: 0.1543 - acc: 0.9527 - val_loss: 0.1541 - val_acc: 0.9500\n",
      "Epoch 17/20\n",
      "1875/1875 [==============================] - 192s 102ms/step - loss: 0.1547 - acc: 0.9518 - val_loss: 0.1483 - val_acc: 0.9523\n",
      "Epoch 18/20\n",
      "1875/1875 [==============================] - 198s 106ms/step - loss: 0.1463 - acc: 0.9536 - val_loss: 0.1294 - val_acc: 0.9592\n",
      "Epoch 19/20\n",
      "1875/1875 [==============================] - 195s 104ms/step - loss: 0.1429 - acc: 0.9552 - val_loss: 0.1206 - val_acc: 0.9608\n",
      "Epoch 20/20\n",
      "1875/1875 [==============================] - 196s 104ms/step - loss: 0.1406 - acc: 0.9563 - val_loss: 0.1093 - val_acc: 0.9653\n"
     ]
    }
   ],
   "source": [
    "inputs, outputs = get_deform_cnn(trainable=False)\n",
    "model = Model(inputs=inputs, outputs=outputs)\n",
    "model.load_weights('./models/cnn.h5', by_name=True)\n",
    "model.summary()\n",
    "optim = Adam(5e-4)\n",
    "# optim = SGD(1e-4, momentum=0.99, nesterov=True)\n",
    "loss = categorical_crossentropy\n",
    "model.compile(optim, loss, metrics=['accuracy'])\n",
    "\n",
    "model.fit_generator(\n",
    "    train_scaled_gen, steps_per_epoch=steps_per_epoch,\n",
    "    epochs=20, verbose=1,\n",
    "    validation_data=test_scaled_gen, validation_steps=validation_steps\n",
    ")\n",
    "# Epoch 20/20\n",
    "# 1875/1875 [==============================] - 504s - loss: 0.2838 - acc: 0.9122 - val_loss: 0.2359 - val_acc: 0.9231\n",
    "model.save_weights('./models/deform_cnn.h5')"
   ]
  },
  {
   "cell_type": "code",
   "execution_count": 6,
   "metadata": {},
   "outputs": [
    {
     "name": "stdout",
     "output_type": "stream",
     "text": [
      "('Test accuracy of deformable convolution with scaled images', 0.9681490384615384)\n",
      "('Test accuracy of deformable convolution with regular images', 0.9182692307692307)\n"
     ]
    }
   ],
   "source": [
    "model.load_weights('./models/deform_cnn.h5')\n",
    "\n",
    "val_loss, val_acc = model.evaluate_generator(\n",
    "    test_scaled_gen, steps=validation_steps\n",
    ")\n",
    "print('Test accuracy of deformable convolution with scaled images', val_acc)\n",
    "# 0.9255\n",
    "\n",
    "val_loss, val_acc = model.evaluate_generator(\n",
    "    test_gen, steps=validation_steps\n",
    ")\n",
    "print('Test accuracy of deformable convolution with regular images', val_acc)"
   ]
  },
  {
   "cell_type": "code",
   "execution_count": 10,
   "metadata": {},
   "outputs": [
    {
     "name": "stdout",
     "output_type": "stream",
     "text": [
      "_________________________________________________________________\n",
      "Layer (type)                 Output Shape              Param #   \n",
      "=================================================================\n",
      "input (InputLayer)           (None, 28, 28, 1)         0         \n",
      "_________________________________________________________________\n",
      "conv11 (Conv2D)              (None, 28, 28, 32)        320       \n",
      "_________________________________________________________________\n",
      "conv11_relu (Activation)     (None, 28, 28, 32)        0         \n",
      "_________________________________________________________________\n",
      "conv11_bn (BatchNormalizatio (None, 28, 28, 32)        128       \n",
      "_________________________________________________________________\n",
      "conv12 (Conv2D)              (None, 14, 14, 64)        18496     \n",
      "_________________________________________________________________\n",
      "conv12_relu (Activation)     (None, 14, 14, 64)        0         \n",
      "_________________________________________________________________\n",
      "conv12_bn (BatchNormalizatio (None, 14, 14, 64)        256       \n",
      "_________________________________________________________________\n",
      "conv21 (Conv2D)              (None, 14, 14, 128)       73856     \n",
      "_________________________________________________________________\n",
      "conv21_relu (Activation)     (None, 14, 14, 128)       0         \n",
      "_________________________________________________________________\n",
      "conv21_bn (BatchNormalizatio (None, 14, 14, 128)       512       \n",
      "_________________________________________________________________\n",
      "conv22 (Conv2D)              (None, 7, 7, 128)         147584    \n",
      "_________________________________________________________________\n",
      "conv22_relu (Activation)     (None, 7, 7, 128)         0         \n",
      "_________________________________________________________________\n",
      "conv22_bn (BatchNormalizatio (None, 7, 7, 128)         512       \n",
      "_________________________________________________________________\n",
      "avg_pool (GlobalAveragePooli (None, 128)               0         \n",
      "_________________________________________________________________\n",
      "fc1 (Dense)                  (None, 10)                1290      \n",
      "_________________________________________________________________\n",
      "out (Activation)             (None, 10)                0         \n",
      "=================================================================\n",
      "Total params: 242,954\n",
      "Trainable params: 242,250\n",
      "Non-trainable params: 704\n",
      "_________________________________________________________________\n",
      "('Test accuracy', 0.9914863782051282)\n",
      "('Test accuracy with scaled images', 0.6702724358974359)\n"
     ]
    }
   ],
   "source": [
    "## 作为对比\n",
    "inputs, outputs = get_cnn()\n",
    "model1 = Model(inputs=inputs, outputs=outputs)\n",
    "model1.summary()\n",
    "optim = Adam(1e-3)\n",
    "# optim = SGD(1e-3, momentum=0.99, nesterov=True)\n",
    "loss = categorical_crossentropy\n",
    "model1.compile(optim, loss, metrics=['accuracy'])\n",
    "\n",
    "model1.load_weights('./models/cnn.h5', by_name=True)\n",
    "\n",
    "val_loss, val_acc = model1.evaluate_generator(\n",
    "    test_gen, steps=validation_steps\n",
    ")\n",
    "print('Test accuracy', val_acc)\n",
    "# 0.9874\n",
    "\n",
    "val_loss, val_acc = model1.evaluate_generator(\n",
    "    test_scaled_gen, steps=validation_steps\n",
    ")\n",
    "print('Test accuracy with scaled images', val_acc)\n",
    "# 0.5701"
   ]
  },
  {
   "cell_type": "code",
   "execution_count": 11,
   "metadata": {},
   "outputs": [
    {
     "name": "stdout",
     "output_type": "stream",
     "text": [
      "<deformableConv_op.DeformableConv object at 0x7f3200a5ec10>\n"
     ]
    },
    {
     "ename": "ValueError",
     "evalue": "Graph disconnected: cannot obtain value for tensor Tensor(\"input_2:0\", shape=(?, 28, 28, 1), dtype=float32) at layer \"input\". The following previous layers were accessed without issue: []",
     "output_type": "error",
     "traceback": [
      "\u001b[0;31m\u001b[0m",
      "\u001b[0;31mValueError\u001b[0mTraceback (most recent call last)",
      "\u001b[0;32m<ipython-input-11-88ee38ab68fa>\u001b[0m in \u001b[0;36m<module>\u001b[0;34m()\u001b[0m\n\u001b[1;32m      4\u001b[0m \u001b[0;32mfor\u001b[0m \u001b[0ml\u001b[0m \u001b[0;32min\u001b[0m \u001b[0mdeform_conv_layers\u001b[0m\u001b[0;34m:\u001b[0m\u001b[0;34m\u001b[0m\u001b[0m\n\u001b[1;32m      5\u001b[0m     \u001b[0;32mprint\u001b[0m\u001b[0;34m(\u001b[0m\u001b[0ml\u001b[0m\u001b[0;34m)\u001b[0m\u001b[0;34m\u001b[0m\u001b[0m\n\u001b[0;32m----> 6\u001b[0;31m     \u001b[0m_model\u001b[0m \u001b[0;34m=\u001b[0m \u001b[0mModel\u001b[0m\u001b[0;34m(\u001b[0m\u001b[0minputs\u001b[0m\u001b[0;34m=\u001b[0m\u001b[0minputs\u001b[0m\u001b[0;34m,\u001b[0m \u001b[0moutputs\u001b[0m\u001b[0;34m=\u001b[0m\u001b[0ml\u001b[0m\u001b[0;34m.\u001b[0m\u001b[0moutput\u001b[0m\u001b[0;34m)\u001b[0m\u001b[0;34m\u001b[0m\u001b[0m\n\u001b[0m\u001b[1;32m      7\u001b[0m     \u001b[0moffsets\u001b[0m \u001b[0;34m=\u001b[0m \u001b[0m_model\u001b[0m\u001b[0;34m.\u001b[0m\u001b[0mpredict\u001b[0m\u001b[0;34m(\u001b[0m\u001b[0mXb\u001b[0m\u001b[0;34m)\u001b[0m\u001b[0;34m\u001b[0m\u001b[0m\n\u001b[1;32m      8\u001b[0m     \u001b[0moffsets\u001b[0m \u001b[0;34m=\u001b[0m \u001b[0moffsets\u001b[0m\u001b[0;34m.\u001b[0m\u001b[0mreshape\u001b[0m\u001b[0;34m(\u001b[0m\u001b[0moffsets\u001b[0m\u001b[0;34m.\u001b[0m\u001b[0mshape\u001b[0m\u001b[0;34m[\u001b[0m\u001b[0;36m0\u001b[0m\u001b[0;34m]\u001b[0m\u001b[0;34m,\u001b[0m \u001b[0moffsets\u001b[0m\u001b[0;34m.\u001b[0m\u001b[0mshape\u001b[0m\u001b[0;34m[\u001b[0m\u001b[0;36m1\u001b[0m\u001b[0;34m]\u001b[0m\u001b[0;34m,\u001b[0m \u001b[0moffsets\u001b[0m\u001b[0;34m.\u001b[0m\u001b[0mshape\u001b[0m\u001b[0;34m[\u001b[0m\u001b[0;36m2\u001b[0m\u001b[0;34m]\u001b[0m\u001b[0;34m,\u001b[0m \u001b[0;34m-\u001b[0m\u001b[0;36m1\u001b[0m\u001b[0;34m,\u001b[0m \u001b[0;36m2\u001b[0m\u001b[0;34m)\u001b[0m\u001b[0;34m\u001b[0m\u001b[0m\n",
      "\u001b[0;32m/home/joy2018/anaconda2/envs/py27_tensorflow/lib/python2.7/site-packages/keras/legacy/interfaces.pyc\u001b[0m in \u001b[0;36mwrapper\u001b[0;34m(*args, **kwargs)\u001b[0m\n\u001b[1;32m     89\u001b[0m                 warnings.warn('Update your `' + object_name +\n\u001b[1;32m     90\u001b[0m                               '` call to the Keras 2 API: ' + signature, stacklevel=2)\n\u001b[0;32m---> 91\u001b[0;31m             \u001b[0;32mreturn\u001b[0m \u001b[0mfunc\u001b[0m\u001b[0;34m(\u001b[0m\u001b[0;34m*\u001b[0m\u001b[0margs\u001b[0m\u001b[0;34m,\u001b[0m \u001b[0;34m**\u001b[0m\u001b[0mkwargs\u001b[0m\u001b[0;34m)\u001b[0m\u001b[0;34m\u001b[0m\u001b[0m\n\u001b[0m\u001b[1;32m     92\u001b[0m         \u001b[0mwrapper\u001b[0m\u001b[0;34m.\u001b[0m\u001b[0m_original_function\u001b[0m \u001b[0;34m=\u001b[0m \u001b[0mfunc\u001b[0m\u001b[0;34m\u001b[0m\u001b[0m\n\u001b[1;32m     93\u001b[0m         \u001b[0;32mreturn\u001b[0m \u001b[0mwrapper\u001b[0m\u001b[0;34m\u001b[0m\u001b[0m\n",
      "\u001b[0;32m/home/joy2018/anaconda2/envs/py27_tensorflow/lib/python2.7/site-packages/keras/engine/network.pyc\u001b[0m in \u001b[0;36m__init__\u001b[0;34m(self, *args, **kwargs)\u001b[0m\n\u001b[1;32m     91\u001b[0m                 'inputs' in kwargs and 'outputs' in kwargs):\n\u001b[1;32m     92\u001b[0m             \u001b[0;31m# Graph network\u001b[0m\u001b[0;34m\u001b[0m\u001b[0;34m\u001b[0m\u001b[0m\n\u001b[0;32m---> 93\u001b[0;31m             \u001b[0mself\u001b[0m\u001b[0;34m.\u001b[0m\u001b[0m_init_graph_network\u001b[0m\u001b[0;34m(\u001b[0m\u001b[0;34m*\u001b[0m\u001b[0margs\u001b[0m\u001b[0;34m,\u001b[0m \u001b[0;34m**\u001b[0m\u001b[0mkwargs\u001b[0m\u001b[0;34m)\u001b[0m\u001b[0;34m\u001b[0m\u001b[0m\n\u001b[0m\u001b[1;32m     94\u001b[0m         \u001b[0;32melse\u001b[0m\u001b[0;34m:\u001b[0m\u001b[0;34m\u001b[0m\u001b[0m\n\u001b[1;32m     95\u001b[0m             \u001b[0;31m# Subclassed network\u001b[0m\u001b[0;34m\u001b[0m\u001b[0;34m\u001b[0m\u001b[0m\n",
      "\u001b[0;32m/home/joy2018/anaconda2/envs/py27_tensorflow/lib/python2.7/site-packages/keras/engine/network.pyc\u001b[0m in \u001b[0;36m_init_graph_network\u001b[0;34m(self, inputs, outputs, name)\u001b[0m\n\u001b[1;32m    235\u001b[0m         \u001b[0;31m# Keep track of the network's nodes and layers.\u001b[0m\u001b[0;34m\u001b[0m\u001b[0;34m\u001b[0m\u001b[0m\n\u001b[1;32m    236\u001b[0m         nodes, nodes_by_depth, layers, layers_by_depth = _map_graph_network(\n\u001b[0;32m--> 237\u001b[0;31m             self.inputs, self.outputs)\n\u001b[0m\u001b[1;32m    238\u001b[0m         \u001b[0mself\u001b[0m\u001b[0;34m.\u001b[0m\u001b[0m_network_nodes\u001b[0m \u001b[0;34m=\u001b[0m \u001b[0mnodes\u001b[0m\u001b[0;34m\u001b[0m\u001b[0m\n\u001b[1;32m    239\u001b[0m         \u001b[0mself\u001b[0m\u001b[0;34m.\u001b[0m\u001b[0m_nodes_by_depth\u001b[0m \u001b[0;34m=\u001b[0m \u001b[0mnodes_by_depth\u001b[0m\u001b[0;34m\u001b[0m\u001b[0m\n",
      "\u001b[0;32m/home/joy2018/anaconda2/envs/py27_tensorflow/lib/python2.7/site-packages/keras/engine/network.pyc\u001b[0m in \u001b[0;36m_map_graph_network\u001b[0;34m(inputs, outputs)\u001b[0m\n\u001b[1;32m   1428\u001b[0m                                          \u001b[0;34m'The following previous layers '\u001b[0m\u001b[0;34m\u001b[0m\u001b[0m\n\u001b[1;32m   1429\u001b[0m                                          \u001b[0;34m'were accessed without issue: '\u001b[0m \u001b[0;34m+\u001b[0m\u001b[0;34m\u001b[0m\u001b[0m\n\u001b[0;32m-> 1430\u001b[0;31m                                          str(layers_with_complete_input))\n\u001b[0m\u001b[1;32m   1431\u001b[0m                 \u001b[0;32mfor\u001b[0m \u001b[0mx\u001b[0m \u001b[0;32min\u001b[0m \u001b[0mnode\u001b[0m\u001b[0;34m.\u001b[0m\u001b[0moutput_tensors\u001b[0m\u001b[0;34m:\u001b[0m\u001b[0;34m\u001b[0m\u001b[0m\n\u001b[1;32m   1432\u001b[0m                     \u001b[0mcomputable_tensors\u001b[0m\u001b[0;34m.\u001b[0m\u001b[0mappend\u001b[0m\u001b[0;34m(\u001b[0m\u001b[0mx\u001b[0m\u001b[0;34m)\u001b[0m\u001b[0;34m\u001b[0m\u001b[0m\n",
      "\u001b[0;31mValueError\u001b[0m: Graph disconnected: cannot obtain value for tensor Tensor(\"input_2:0\", shape=(?, 28, 28, 1), dtype=float32) at layer \"input\". The following previous layers were accessed without issue: []"
     ]
    }
   ],
   "source": [
    "deform_conv_layers = [l for l in model.layers if isinstance(l, DeformableConv)]\n",
    "\n",
    "Xb, Yb = next(test_gen)\n",
    "for l in deform_conv_layers:\n",
    "    print(l)\n",
    "    _model = Model(inputs=inputs, outputs=l.output)\n",
    "    offsets = _model.predict(Xb)\n",
    "    offsets = offsets.reshape(offsets.shape[0], offsets.shape[1], offsets.shape[2], -1, 2)\n",
    "    print(offsets.min())\n",
    "    print(offsets.mean())\n",
    "    print(offsets.max())"
   ]
  },
  {
   "cell_type": "code",
   "execution_count": null,
   "metadata": {},
   "outputs": [],
   "source": []
  }
 ],
 "metadata": {
  "kernelspec": {
   "display_name": "Python [conda env:py27_tensorflow]",
   "language": "python",
   "name": "conda-env-py27_tensorflow-py"
  },
  "language_info": {
   "codemirror_mode": {
    "name": "ipython",
    "version": 2
   },
   "file_extension": ".py",
   "mimetype": "text/x-python",
   "name": "python",
   "nbconvert_exporter": "python",
   "pygments_lexer": "ipython2",
   "version": "2.7.15"
  }
 },
 "nbformat": 4,
 "nbformat_minor": 2
}
